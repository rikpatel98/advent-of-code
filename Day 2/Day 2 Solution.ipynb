{
 "cells": [
  {
   "cell_type": "code",
   "execution_count": 103,
   "id": "8158aadc",
   "metadata": {},
   "outputs": [],
   "source": [
    "import numpy as np\n",
    "import csv\n",
    "import csv\n",
    "\n",
    "with open('input2.csv', newline='') as f:\n",
    "    reader = csv.reader(f)\n",
    "    steps = list(reader)\n",
    "\n",
    "    \n",
    "newsteps = [i[0] for i in steps]\n",
    "\n",
    "\n",
    "\n"
   ]
  },
  {
   "cell_type": "code",
   "execution_count": 100,
   "id": "48b9e71d",
   "metadata": {},
   "outputs": [],
   "source": [
    "horizontal = 0\n",
    "depth = 0\n"
   ]
  },
  {
   "cell_type": "code",
   "execution_count": 93,
   "id": "5b526330",
   "metadata": {},
   "outputs": [
    {
     "name": "stdout",
     "output_type": "stream",
     "text": [
      "forward\n",
      "2\n"
     ]
    }
   ],
   "source": [
    "print(newsteps[0].split()[0])\n",
    "print(newsteps[0].split()[1])"
   ]
  },
  {
   "cell_type": "code",
   "execution_count": 101,
   "id": "bdd8f8fc",
   "metadata": {},
   "outputs": [],
   "source": [
    "for i in newsteps:\n",
    "    if i.split()[0] == 'forward':\n",
    "        horizontal += int(i.split()[1])\n",
    "    elif i.split()[0] == 'down':\n",
    "        depth += int(i.split()[1])\n",
    "    elif i.split()[0] == 'up':\n",
    "        depth -= int(i.split()[1])\n",
    "    else:\n",
    "        print('error')"
   ]
  },
  {
   "cell_type": "code",
   "execution_count": 102,
   "id": "70aef9ce",
   "metadata": {},
   "outputs": [
    {
     "name": "stdout",
     "output_type": "stream",
     "text": [
      "2010 1030\n"
     ]
    }
   ],
   "source": [
    "print(horizontal,depth)"
   ]
  },
  {
   "cell_type": "code",
   "execution_count": 99,
   "id": "55d21966",
   "metadata": {},
   "outputs": [
    {
     "name": "stdout",
     "output_type": "stream",
     "text": [
      "-2070300\n"
     ]
    }
   ],
   "source": [
    "print(horizontal*depth)"
   ]
  }
 ],
 "metadata": {
  "kernelspec": {
   "display_name": "Python 3",
   "language": "python",
   "name": "python3"
  },
  "language_info": {
   "codemirror_mode": {
    "name": "ipython",
    "version": 3
   },
   "file_extension": ".py",
   "mimetype": "text/x-python",
   "name": "python",
   "nbconvert_exporter": "python",
   "pygments_lexer": "ipython3",
   "version": "3.8.8"
  }
 },
 "nbformat": 4,
 "nbformat_minor": 5
}
