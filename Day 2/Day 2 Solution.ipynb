{
 "cells": [
  {
   "cell_type": "code",
   "execution_count": 103,
   "id": "243c07aa",
   "metadata": {},
   "outputs": [],
   "source": [
    "import numpy as np\n",
    "import csv\n",
    "import csv\n",
    "\n",
    "with open('input2.csv', newline='') as f:\n",
    "    reader = csv.reader(f)\n",
    "    steps = list(reader)\n",
    "\n",
    "    \n",
    "newsteps = [i[0] for i in steps]\n",
    "\n",
    "\n",
    "\n"
   ]
  },
  {
   "cell_type": "code",
   "execution_count": 100,
   "id": "b94cd9ab",
   "metadata": {},
   "outputs": [],
   "source": [
    "horizontal = 0\n",
    "depth = 0\n"
   ]
  },
  {
   "cell_type": "code",
   "execution_count": 93,
   "id": "6a0a0e02",
   "metadata": {},
   "outputs": [
    {
     "name": "stdout",
     "output_type": "stream",
     "text": [
      "forward\n",
      "2\n"
     ]
    }
   ],
   "source": [
    "print(newsteps[0].split()[0])\n",
    "print(newsteps[0].split()[1])"
   ]
  },
  {
   "cell_type": "code",
   "execution_count": 101,
   "id": "c5004171",
   "metadata": {},
   "outputs": [],
   "source": [
    "for i in newsteps:\n",
    "    if i.split()[0] == 'forward':\n",
    "        horizontal += int(i.split()[1])\n",
    "    elif i.split()[0] == 'down':\n",
    "        depth += int(i.split()[1])\n",
    "    elif i.split()[0] == 'up':\n",
    "        depth -= int(i.split()[1])\n",
    "    else:\n",
    "        print('error')"
   ]
  },
  {
   "cell_type": "code",
   "execution_count": 102,
   "id": "4014ef6e",
   "metadata": {},
   "outputs": [
    {
     "name": "stdout",
     "output_type": "stream",
     "text": [
      "2010 1030\n"
     ]
    }
   ],
   "source": [
    "print(horizontal,depth)"
   ]
  },
  {
   "cell_type": "code",
   "execution_count": 104,
   "id": "603ff6f7",
   "metadata": {},
   "outputs": [
    {
     "name": "stdout",
     "output_type": "stream",
     "text": [
      "2070300\n"
     ]
    }
   ],
   "source": [
    "print(horizontal*depth)"
   ]
  },
  {
   "cell_type": "code",
   "execution_count": 109,
   "id": "df7b9727",
   "metadata": {},
   "outputs": [],
   "source": [
    "# part 2\n",
    "new_horizontal = 0\n",
    "aim = 0\n",
    "new_depth = 0"
   ]
  },
  {
   "cell_type": "code",
   "execution_count": 110,
   "id": "67d50e2a",
   "metadata": {},
   "outputs": [],
   "source": [
    "for i in newsteps:\n",
    "    if i.split()[0] == 'forward':\n",
    "        new_horizontal += int(i.split()[1])\n",
    "        new_depth += int(i.split()[1]) * aim\n",
    "    elif i.split()[0] == 'down':\n",
    "        aim += int(i.split()[1])\n",
    "    elif i.split()[0] == 'up':\n",
    "        aim -= int(i.split()[1])\n",
    "    else:\n",
    "        print('error')"
   ]
  },
  {
   "cell_type": "code",
   "execution_count": 111,
   "id": "00b7bb63",
   "metadata": {},
   "outputs": [
    {
     "name": "stdout",
     "output_type": "stream",
     "text": [
      "2010 1030 1034321\n"
     ]
    }
   ],
   "source": [
    "print(new_horizontal, aim, new_depth)"
   ]
  },
  {
   "cell_type": "code",
   "execution_count": 112,
   "id": "e477352c",
   "metadata": {},
   "outputs": [
    {
     "data": {
      "text/plain": [
       "2078985210"
      ]
     },
     "execution_count": 112,
     "metadata": {},
     "output_type": "execute_result"
    }
   ],
   "source": [
    "new_horizontal * new_depth"
   ]
  }
 ],
 "metadata": {
  "kernelspec": {
   "display_name": "Python 3",
   "language": "python",
   "name": "python3"
  },
  "language_info": {
   "codemirror_mode": {
    "name": "ipython",
    "version": 3
   },
   "file_extension": ".py",
   "mimetype": "text/x-python",
   "name": "python",
   "nbconvert_exporter": "python",
   "pygments_lexer": "ipython3",
   "version": "3.8.8"
  }
 },
 "nbformat": 4,
 "nbformat_minor": 5
}
