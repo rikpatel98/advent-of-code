{
 "cells": [
  {
   "cell_type": "code",
   "execution_count": 30,
   "id": "c61a6603",
   "metadata": {},
   "outputs": [
    {
     "ename": "AttributeError",
     "evalue": "'str' object has no attribute 'type'",
     "output_type": "error",
     "traceback": [
      "\u001b[1;31m---------------------------------------------------------------------------\u001b[0m",
      "\u001b[1;31mAttributeError\u001b[0m                            Traceback (most recent call last)",
      "\u001b[1;32m<ipython-input-30-3aedf3ee4047>\u001b[0m in \u001b[0;36m<module>\u001b[1;34m\u001b[0m\n\u001b[0;32m     10\u001b[0m \u001b[0mnewsteps\u001b[0m \u001b[1;33m=\u001b[0m \u001b[1;33m[\u001b[0m\u001b[0mi\u001b[0m\u001b[1;33m[\u001b[0m\u001b[1;36m0\u001b[0m\u001b[1;33m]\u001b[0m \u001b[1;32mfor\u001b[0m \u001b[0mi\u001b[0m \u001b[1;32min\u001b[0m \u001b[0msteps\u001b[0m\u001b[1;33m]\u001b[0m\u001b[1;33m\u001b[0m\u001b[1;33m\u001b[0m\u001b[0m\n\u001b[0;32m     11\u001b[0m \u001b[1;33m\u001b[0m\u001b[0m\n\u001b[1;32m---> 12\u001b[1;33m \u001b[0mnewsteps\u001b[0m\u001b[1;33m[\u001b[0m\u001b[1;36m0\u001b[0m\u001b[1;33m]\u001b[0m\u001b[1;33m.\u001b[0m\u001b[0mtype\u001b[0m\u001b[1;33m(\u001b[0m\u001b[1;33m)\u001b[0m\u001b[1;33m\u001b[0m\u001b[1;33m\u001b[0m\u001b[0m\n\u001b[0m\u001b[0;32m     13\u001b[0m \u001b[1;33m\u001b[0m\u001b[0m\n",
      "\u001b[1;31mAttributeError\u001b[0m: 'str' object has no attribute 'type'"
     ]
    }
   ],
   "source": [
    "import numpy as np\n",
    "import csv\n",
    "import csv\n",
    "\n",
    "with open('input2.csv', newline='') as f:\n",
    "    reader = csv.reader(f)\n",
    "    steps = list(reader)\n",
    "\n",
    "    \n",
    "newsteps = [i[0] for i in steps]\n",
    "\n",
    "\n",
    "\n"
   ]
  },
  {
   "cell_type": "code",
   "execution_count": 100,
   "id": "c33dd74d",
   "metadata": {},
   "outputs": [],
   "source": [
    "horizontal = 0\n",
    "depth = 0\n"
   ]
  },
  {
   "cell_type": "code",
   "execution_count": 93,
   "id": "00fcbb3a",
   "metadata": {},
   "outputs": [
    {
     "name": "stdout",
     "output_type": "stream",
     "text": [
      "forward\n",
      "2\n"
     ]
    }
   ],
   "source": [
    "print(newsteps[0].split()[0])\n",
    "print(newsteps[0].split()[1])"
   ]
  },
  {
   "cell_type": "code",
   "execution_count": 101,
   "id": "d8ffeb04",
   "metadata": {},
   "outputs": [],
   "source": [
    "for i in newsteps:\n",
    "    if i.split()[0] == 'forward':\n",
    "        horizontal += int(i.split()[1])\n",
    "    elif i.split()[0] == 'down':\n",
    "        depth += int(i.split()[1])\n",
    "    elif i.split()[0] == 'up':\n",
    "        depth -= int(i.split()[1])\n",
    "    else:\n",
    "        print('nerd')"
   ]
  },
  {
   "cell_type": "code",
   "execution_count": 102,
   "id": "75883c7b",
   "metadata": {},
   "outputs": [
    {
     "name": "stdout",
     "output_type": "stream",
     "text": [
      "2010 1030\n"
     ]
    }
   ],
   "source": [
    "print(horizontal,depth)"
   ]
  },
  {
   "cell_type": "code",
   "execution_count": 99,
   "id": "3e3fdfd9",
   "metadata": {},
   "outputs": [
    {
     "name": "stdout",
     "output_type": "stream",
     "text": [
      "-2070300\n"
     ]
    }
   ],
   "source": [
    "print(horizontal*depth)"
   ]
  },
  {
   "cell_type": "code",
   "execution_count": 61,
   "id": "b178fd7a",
   "metadata": {},
   "outputs": [],
   "source": []
  },
  {
   "cell_type": "code",
   "execution_count": 64,
   "id": "ba041b13",
   "metadata": {},
   "outputs": [
    {
     "data": {
      "text/plain": [
       "4962"
      ]
     },
     "execution_count": 64,
     "metadata": {},
     "output_type": "execute_result"
    }
   ],
   "source": []
  },
  {
   "cell_type": "code",
   "execution_count": null,
   "id": "36b8984f",
   "metadata": {},
   "outputs": [],
   "source": []
  }
 ],
 "metadata": {
  "kernelspec": {
   "display_name": "Python 3",
   "language": "python",
   "name": "python3"
  },
  "language_info": {
   "codemirror_mode": {
    "name": "ipython",
    "version": 3
   },
   "file_extension": ".py",
   "mimetype": "text/x-python",
   "name": "python",
   "nbconvert_exporter": "python",
   "pygments_lexer": "ipython3",
   "version": "3.8.8"
  }
 },
 "nbformat": 4,
 "nbformat_minor": 5
}
