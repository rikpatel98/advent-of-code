{
 "cells": [
  {
   "cell_type": "code",
   "execution_count": 3,
   "id": "d76090c8",
   "metadata": {},
   "outputs": [],
   "source": [
    "import numpy as np\n",
    "import collections\n",
    "inputlist = np.genfromtxt('C:\\\\Users\\\\rikpatel\\\\advent-of-code\\\\Day 1\\\\input1.csv', delimiter = None)\n",
    "\n",
    "\n"
   ]
  },
  {
   "cell_type": "code",
   "execution_count": 37,
   "id": "89ead725",
   "metadata": {},
   "outputs": [],
   "source": [
    "empty = []\n",
    "\n",
    "empty4 = []\n",
    "for count, values in enumerate(inputlist):\n",
    "    if values - inputlist[count-1] > 0:\n",
    "        empty.append(1)\n",
    "    else:\n",
    "        empty.append(0)"
   ]
  },
  {
   "cell_type": "code",
   "execution_count": 17,
   "id": "84ad7a29",
   "metadata": {},
   "outputs": [
    {
     "data": {
      "text/plain": [
       "Counter({0: 289, 1: 1711})"
      ]
     },
     "execution_count": 17,
     "metadata": {},
     "output_type": "execute_result"
    }
   ],
   "source": [
    "collections.Counter(empty) # 1 = increase, 0 = decrease"
   ]
  },
  {
   "cell_type": "code",
   "execution_count": 38,
   "id": "99ff880e",
   "metadata": {},
   "outputs": [],
   "source": [
    "\n",
    "for count, values in  enumerate(inputlist):\n",
    "    if len(inputlist[count+1:count+4]) & len(inputlist[count:count+3]) == 3:\n",
    "        if sum(inputlist[count+1:count+4]) - sum(inputlist[count:count+3]) > 0:\n",
    "            empty4.append(1)\n",
    "        else:\n",
    "            empty4.append(0)\n",
    "   "
   ]
  },
  {
   "cell_type": "code",
   "execution_count": 39,
   "id": "8e334100",
   "metadata": {},
   "outputs": [
    {
     "data": {
      "text/plain": [
       "Counter({1: 1743, 0: 254})"
      ]
     },
     "execution_count": 39,
     "metadata": {},
     "output_type": "execute_result"
    }
   ],
   "source": [
    "collections.Counter(empty4)"
   ]
  },
  {
   "cell_type": "code",
   "execution_count": null,
   "id": "937667e6",
   "metadata": {},
   "outputs": [],
   "source": []
  },
  {
   "cell_type": "code",
   "execution_count": null,
   "id": "933fa57c",
   "metadata": {},
   "outputs": [],
   "source": []
  }
 ],
 "metadata": {
  "kernelspec": {
   "display_name": "Python 3",
   "language": "python",
   "name": "python3"
  },
  "language_info": {
   "codemirror_mode": {
    "name": "ipython",
    "version": 3
   },
   "file_extension": ".py",
   "mimetype": "text/x-python",
   "name": "python",
   "nbconvert_exporter": "python",
   "pygments_lexer": "ipython3",
   "version": "3.8.8"
  }
 },
 "nbformat": 4,
 "nbformat_minor": 5
}
